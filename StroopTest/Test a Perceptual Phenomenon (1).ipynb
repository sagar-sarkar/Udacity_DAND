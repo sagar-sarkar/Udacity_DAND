{
 "cells": [
  {
   "cell_type": "markdown",
   "metadata": {},
   "source": [
    "### Analyzing the Stroop Effect\n",
    "Perform the analysis in the space below. Remember to follow [the instructions](https://docs.google.com/document/d/1-OkpZLjG_kX9J6LIQ5IltsqMzVWjh36QpnP2RYpVdPU/pub?embedded=True) and review the [project rubric](https://review.udacity.com/#!/rubrics/71/view) before submitting. Once you've completed the analysis and write up, download this file as a PDF or HTML file and submit in the next section.\n",
    "\n",
    "\n",
    "(1) What is the independent variable? What is the dependent variable?"
   ]
  },
  {
   "cell_type": "markdown",
   "metadata": {},
   "source": [
    "The independent variable of this Stroop test Experiment is 'Word Condtion' (Congruent and Non-Congruent).\n",
    "\n",
    "The dependant varibale for this experiment is the 'Reaction Time for Participants'. \n",
    "As this varies from user to user, when we manipulate the independent varibale 'Word Condition' from Congruent to Non-Congruent.\n",
    "\n",
    "Note:'Reaction Time for Participants': Is defined as overall time taken by each member participating in the study, to 'correctly' read the 'color' of the 'Word Condition(s)', not the 'text' in each 'Word Condition'. Which is captured in the datasheet(stroopdata.csv) of the experiment.\n",
    "\n",
    "Sources: The definitions and clarifications about the expermient were understood from Faculty of Washington Website https://faculty.washington.edu/chudler/words.html and Wikipedia: https://en.wikipedia.org/wiki/Stroop_effect."
   ]
  },
  {
   "cell_type": "markdown",
   "metadata": {},
   "source": [
    "(2) What is an appropriate set of hypotheses for this task? What kind of statistical test do you expect to perform? Justify your choices."
   ]
  },
  {
   "cell_type": "markdown",
   "metadata": {},
   "source": [
    "2A: The following will be the Hypothesis for this task:\n",
    "\n",
    "H$_0$ (Null Hypothesis): Changing 'Word Condition' from Congruent to Non-Congruent doesn't impact 'Raction Time for Particpants' in a statistically significant way. (confidence internal 95%)\n",
    "Equation:- Average Reaction Time (congruent) = Aevrage Reaction Time (incongruent) without much variability\n",
    "\n",
    "H$_1$ (Alternate Hypothesis): Chnaging 'Word Condition' from Congrument to Non-Congruent will increase 'Reation time for Participants' in a statisticaly significant way. (confidence interval 95%)\n",
    "Equation:- Average Reaction Time (congruent) < Aevrage Reaction Time (incongruent) with significant variability\n",
    "\n",
    "2B: Statistically test to proove or reject the H$_0$ (null hypothesis), will be a paried one-tail t-Test, as the samples are from same individuals and with different condtions on the independent varibale 'Word Condition' Congruent/Non-Congruent.\n",
    "\n",
    "A t-Test in this condition will help us understand if there is a significant difference in the varibality of data to draw conslusions on Reaction time being dependant on Word Condition or not.\n",
    "The confidence variable is selected as 95%, as with any standard scientific study, but once we draw observations we can continue to increase the confidence varibale to check for singificance at different $\\alpha$ levels = 0.95/0.99/0.999. \n",
    "\n",
    "This is a one tailed t-Test, due to assumption on that the incongrument conditon requires more prcoessing time in our brains due to the mixing of the color and text of Words.\n",
    "\n",
    "#### This is further explained by the theories prososed by 'Faculty of Washington Website https://faculty.washington.edu/chudler/words.html':\n",
    "\n",
    "##### \"The words themselves have a strong influence over your ability to say the color. The interference between the different information (what the words say and the color of the words) your brain receives causes a problem. There are two theories that may explain the Stroop effect:\n",
    "\n",
    "##### 1. Speed of Processing Theory: the interference occurs because words are read faster than colors are named.\n",
    "##### 2. Selective Attention Theory: the interference occurs because naming colors requires more attention than reading words.\"\n",
    "\n",
    "So, for the t-Test and hypothesis summary:\n",
    "\n",
    "H$_0$: $ \\mu_{con} $ = $ \\mu_{incon} $, $\\alpha$ = 0.95, z = 1.65\n",
    "\n",
    "H$_1$: $ \\mu_{con} $ < $ \\mu_{incon} $, $\\alpha$ = 0.95, z < 1.65\n",
    "\n"
   ]
  },
  {
   "cell_type": "markdown",
   "metadata": {},
   "source": [
    "(3) Report some descriptive statistics regarding this dataset. Include at least one measure of central tendency and at least one measure of variability. The name of the data file is 'stroopdata.csv'."
   ]
  },
  {
   "cell_type": "code",
   "execution_count": 20,
   "metadata": {},
   "outputs": [
    {
     "ename": "FileNotFoundError",
     "evalue": "[Errno 2] No such file or directory: 'https://github.com/sagar-sarkar/Udacity_DAND/StroopTest/stroopdata.csv'",
     "output_type": "error",
     "traceback": [
      "\u001b[0;31m---------------------------------------------------------------------------\u001b[0m",
      "\u001b[0;31mFileNotFoundError\u001b[0m                         Traceback (most recent call last)",
      "\u001b[0;32m<ipython-input-20-4982c8e47095>\u001b[0m in \u001b[0;36m<module>\u001b[0;34m()\u001b[0m\n\u001b[1;32m      3\u001b[0m \u001b[0;31m#import numphy as nm\u001b[0m\u001b[0;34m\u001b[0m\u001b[0;34m\u001b[0m\u001b[0m\n\u001b[1;32m      4\u001b[0m \u001b[0;34m\u001b[0m\u001b[0m\n\u001b[0;32m----> 5\u001b[0;31m \u001b[0mdf\u001b[0m \u001b[0;34m=\u001b[0m \u001b[0mpd\u001b[0m\u001b[0;34m.\u001b[0m\u001b[0mread_csv\u001b[0m\u001b[0;34m(\u001b[0m\u001b[0mopen\u001b[0m\u001b[0;34m(\u001b[0m\u001b[0;34m'https://github.com/sagar-sarkar/Udacity_DAND/StroopTest/stroopdata.csv'\u001b[0m\u001b[0;34m)\u001b[0m\u001b[0;34m,\u001b[0m\u001b[0mindex_col\u001b[0m\u001b[0;34m=\u001b[0m\u001b[0;36m0\u001b[0m\u001b[0;34m,\u001b[0m \u001b[0mencoding\u001b[0m\u001b[0;34m=\u001b[0m\u001b[0;34m'utf-8'\u001b[0m\u001b[0;34m,\u001b[0m \u001b[0mengine\u001b[0m\u001b[0;34m=\u001b[0m\u001b[0;34m'c'\u001b[0m\u001b[0;34m)\u001b[0m\u001b[0;34m\u001b[0m\u001b[0m\n\u001b[0m\u001b[1;32m      6\u001b[0m \u001b[0mdf\u001b[0m\u001b[0;34m.\u001b[0m\u001b[0mhead\u001b[0m\u001b[0;34m(\u001b[0m\u001b[0;34m)\u001b[0m\u001b[0;34m\u001b[0m\u001b[0m\n",
      "\u001b[0;31mFileNotFoundError\u001b[0m: [Errno 2] No such file or directory: 'https://github.com/sagar-sarkar/Udacity_DAND/StroopTest/stroopdata.csv'"
     ]
    }
   ],
   "source": [
    "# Perform the analysis here\n",
    "import pandas as pd\n",
    "#import numphy as nm\n",
    "\n",
    "df = pd.read_csv(open('https://github.com/sagar-sarkar/Udacity_DAND/StroopTest/stroopdata.csv'),index_col=0, encoding='utf-8', engine='c')\n",
    "df.head()"
   ]
  },
  {
   "cell_type": "markdown",
   "metadata": {},
   "source": [
    "--write answer here--"
   ]
  },
  {
   "cell_type": "markdown",
   "metadata": {},
   "source": [
    "(4) Provide one or two visualizations that show the distribution of the sample data. Write one or two sentences noting what you observe about the plot or plots."
   ]
  },
  {
   "cell_type": "code",
   "execution_count": null,
   "metadata": {
    "collapsed": true
   },
   "outputs": [],
   "source": [
    "# Build the visualizations here"
   ]
  },
  {
   "cell_type": "markdown",
   "metadata": {},
   "source": [
    "--write answer here--"
   ]
  },
  {
   "cell_type": "markdown",
   "metadata": {},
   "source": [
    "(5) Now, perform the statistical test and report the results. What is the confidence level and your critical statistic value? Do you reject the null hypothesis or fail to reject it? Come to a conclusion in terms of the experiment task. Did the results match up with your expectations?"
   ]
  },
  {
   "cell_type": "code",
   "execution_count": 1,
   "metadata": {
    "collapsed": true
   },
   "outputs": [],
   "source": [
    "# Perform the statistical test here"
   ]
  },
  {
   "cell_type": "markdown",
   "metadata": {},
   "source": [
    "--write answer here--"
   ]
  }
 ],
 "metadata": {
  "kernelspec": {
   "display_name": "Python 3",
   "language": "python",
   "name": "python3"
  },
  "language_info": {
   "codemirror_mode": {
    "name": "ipython",
    "version": 3
   },
   "file_extension": ".py",
   "mimetype": "text/x-python",
   "name": "python",
   "nbconvert_exporter": "python",
   "pygments_lexer": "ipython3",
   "version": "3.6.3"
  }
 },
 "nbformat": 4,
 "nbformat_minor": 2
}
